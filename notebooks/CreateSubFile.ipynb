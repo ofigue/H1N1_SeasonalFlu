{
 "metadata": {
  "language_info": {
   "codemirror_mode": {
    "name": "ipython",
    "version": 3
   },
   "file_extension": ".py",
   "mimetype": "text/x-python",
   "name": "python",
   "nbconvert_exporter": "python",
   "pygments_lexer": "ipython3",
   "version": "3.7.4-final"
  },
  "orig_nbformat": 2,
  "kernelspec": {
   "name": "Python 3.7.4 64-bit ('base': conda)",
   "display_name": "Python 3.7.4 64-bit ('base': conda)",
   "metadata": {
    "interpreter": {
     "hash": "51e4d05327a60c7f31fc228e2be4b3d6dd36915abce1b057370353f73322f49c"
    }
   }
  }
 },
 "nbformat": 4,
 "nbformat_minor": 2,
 "cells": [
  {
   "cell_type": "code",
   "execution_count": 1,
   "metadata": {},
   "outputs": [],
   "source": [
    "import pandas as pd\n",
    "import numpy as np\n"
   ]
  },
  {
   "cell_type": "code",
   "execution_count": 2,
   "metadata": {},
   "outputs": [],
   "source": [
    "h1n1 = pd.read_csv('../model_preds/sub_h1n1.csv')\n",
    "season = pd.read_csv('../model_preds/sub_season.csv')"
   ]
  },
  {
   "cell_type": "code",
   "execution_count": 3,
   "metadata": {},
   "outputs": [
    {
     "output_type": "execute_result",
     "data": {
      "text/plain": [
       "      id  xgb_test_pred\n",
       "0  26707       0.047429\n",
       "1  26708       0.054938\n",
       "2  26709       0.467708\n",
       "3  26710       0.812618\n",
       "4  26711       0.252736"
      ],
      "text/html": "<div>\n<style scoped>\n    .dataframe tbody tr th:only-of-type {\n        vertical-align: middle;\n    }\n\n    .dataframe tbody tr th {\n        vertical-align: top;\n    }\n\n    .dataframe thead th {\n        text-align: right;\n    }\n</style>\n<table border=\"1\" class=\"dataframe\">\n  <thead>\n    <tr style=\"text-align: right;\">\n      <th></th>\n      <th>id</th>\n      <th>xgb_test_pred</th>\n    </tr>\n  </thead>\n  <tbody>\n    <tr>\n      <td>0</td>\n      <td>26707</td>\n      <td>0.047429</td>\n    </tr>\n    <tr>\n      <td>1</td>\n      <td>26708</td>\n      <td>0.054938</td>\n    </tr>\n    <tr>\n      <td>2</td>\n      <td>26709</td>\n      <td>0.467708</td>\n    </tr>\n    <tr>\n      <td>3</td>\n      <td>26710</td>\n      <td>0.812618</td>\n    </tr>\n    <tr>\n      <td>4</td>\n      <td>26711</td>\n      <td>0.252736</td>\n    </tr>\n  </tbody>\n</table>\n</div>"
     },
     "metadata": {},
     "execution_count": 3
    }
   ],
   "source": [
    "h1n1.head()"
   ]
  },
  {
   "cell_type": "code",
   "execution_count": 4,
   "metadata": {},
   "outputs": [
    {
     "output_type": "execute_result",
     "data": {
      "text/plain": [
       "(26708, 2)"
      ]
     },
     "metadata": {},
     "execution_count": 4
    }
   ],
   "source": [
    "h1n1.shape"
   ]
  },
  {
   "cell_type": "code",
   "execution_count": 5,
   "metadata": {},
   "outputs": [
    {
     "output_type": "execute_result",
     "data": {
      "text/plain": [
       "      id  xgb_test_pred\n",
       "0  26707       0.181784\n",
       "1  26708       0.070073\n",
       "2  26709       0.827732\n",
       "3  26710       0.889232\n",
       "4  26711       0.558421"
      ],
      "text/html": "<div>\n<style scoped>\n    .dataframe tbody tr th:only-of-type {\n        vertical-align: middle;\n    }\n\n    .dataframe tbody tr th {\n        vertical-align: top;\n    }\n\n    .dataframe thead th {\n        text-align: right;\n    }\n</style>\n<table border=\"1\" class=\"dataframe\">\n  <thead>\n    <tr style=\"text-align: right;\">\n      <th></th>\n      <th>id</th>\n      <th>xgb_test_pred</th>\n    </tr>\n  </thead>\n  <tbody>\n    <tr>\n      <td>0</td>\n      <td>26707</td>\n      <td>0.181784</td>\n    </tr>\n    <tr>\n      <td>1</td>\n      <td>26708</td>\n      <td>0.070073</td>\n    </tr>\n    <tr>\n      <td>2</td>\n      <td>26709</td>\n      <td>0.827732</td>\n    </tr>\n    <tr>\n      <td>3</td>\n      <td>26710</td>\n      <td>0.889232</td>\n    </tr>\n    <tr>\n      <td>4</td>\n      <td>26711</td>\n      <td>0.558421</td>\n    </tr>\n  </tbody>\n</table>\n</div>"
     },
     "metadata": {},
     "execution_count": 5
    }
   ],
   "source": [
    "season.head()"
   ]
  },
  {
   "cell_type": "code",
   "execution_count": 6,
   "metadata": {},
   "outputs": [
    {
     "output_type": "execute_result",
     "data": {
      "text/plain": [
       "(26708, 2)"
      ]
     },
     "metadata": {},
     "execution_count": 6
    }
   ],
   "source": [
    "season.shape"
   ]
  },
  {
   "cell_type": "code",
   "execution_count": 7,
   "metadata": {},
   "outputs": [],
   "source": [
    "\n",
    "h1n1.rename(columns={'id': 'respondent_id', 'xgb_test_pred': 'h1n1_vaccine'}, inplace=True)"
   ]
  },
  {
   "cell_type": "code",
   "execution_count": 8,
   "metadata": {},
   "outputs": [
    {
     "output_type": "execute_result",
     "data": {
      "text/plain": [
       "   respondent_id  h1n1_vaccine\n",
       "0          26707      0.047429\n",
       "1          26708      0.054938\n",
       "2          26709      0.467708\n",
       "3          26710      0.812618\n",
       "4          26711      0.252736"
      ],
      "text/html": "<div>\n<style scoped>\n    .dataframe tbody tr th:only-of-type {\n        vertical-align: middle;\n    }\n\n    .dataframe tbody tr th {\n        vertical-align: top;\n    }\n\n    .dataframe thead th {\n        text-align: right;\n    }\n</style>\n<table border=\"1\" class=\"dataframe\">\n  <thead>\n    <tr style=\"text-align: right;\">\n      <th></th>\n      <th>respondent_id</th>\n      <th>h1n1_vaccine</th>\n    </tr>\n  </thead>\n  <tbody>\n    <tr>\n      <td>0</td>\n      <td>26707</td>\n      <td>0.047429</td>\n    </tr>\n    <tr>\n      <td>1</td>\n      <td>26708</td>\n      <td>0.054938</td>\n    </tr>\n    <tr>\n      <td>2</td>\n      <td>26709</td>\n      <td>0.467708</td>\n    </tr>\n    <tr>\n      <td>3</td>\n      <td>26710</td>\n      <td>0.812618</td>\n    </tr>\n    <tr>\n      <td>4</td>\n      <td>26711</td>\n      <td>0.252736</td>\n    </tr>\n  </tbody>\n</table>\n</div>"
     },
     "metadata": {},
     "execution_count": 8
    }
   ],
   "source": [
    "h1n1.head()"
   ]
  },
  {
   "cell_type": "code",
   "execution_count": 9,
   "metadata": {},
   "outputs": [],
   "source": [
    "ambos = pd.concat([h1n1, season], axis=1)"
   ]
  },
  {
   "cell_type": "code",
   "execution_count": 10,
   "metadata": {},
   "outputs": [
    {
     "output_type": "execute_result",
     "data": {
      "text/plain": [
       "(26708, 4)"
      ]
     },
     "metadata": {},
     "execution_count": 10
    }
   ],
   "source": [
    "ambos.shape"
   ]
  },
  {
   "cell_type": "code",
   "execution_count": 11,
   "metadata": {},
   "outputs": [
    {
     "output_type": "execute_result",
     "data": {
      "text/plain": [
       "   respondent_id  h1n1_vaccine     id  xgb_test_pred\n",
       "0          26707      0.047429  26707       0.181784\n",
       "1          26708      0.054938  26708       0.070073\n",
       "2          26709      0.467708  26709       0.827732\n",
       "3          26710      0.812618  26710       0.889232\n",
       "4          26711      0.252736  26711       0.558421"
      ],
      "text/html": "<div>\n<style scoped>\n    .dataframe tbody tr th:only-of-type {\n        vertical-align: middle;\n    }\n\n    .dataframe tbody tr th {\n        vertical-align: top;\n    }\n\n    .dataframe thead th {\n        text-align: right;\n    }\n</style>\n<table border=\"1\" class=\"dataframe\">\n  <thead>\n    <tr style=\"text-align: right;\">\n      <th></th>\n      <th>respondent_id</th>\n      <th>h1n1_vaccine</th>\n      <th>id</th>\n      <th>xgb_test_pred</th>\n    </tr>\n  </thead>\n  <tbody>\n    <tr>\n      <td>0</td>\n      <td>26707</td>\n      <td>0.047429</td>\n      <td>26707</td>\n      <td>0.181784</td>\n    </tr>\n    <tr>\n      <td>1</td>\n      <td>26708</td>\n      <td>0.054938</td>\n      <td>26708</td>\n      <td>0.070073</td>\n    </tr>\n    <tr>\n      <td>2</td>\n      <td>26709</td>\n      <td>0.467708</td>\n      <td>26709</td>\n      <td>0.827732</td>\n    </tr>\n    <tr>\n      <td>3</td>\n      <td>26710</td>\n      <td>0.812618</td>\n      <td>26710</td>\n      <td>0.889232</td>\n    </tr>\n    <tr>\n      <td>4</td>\n      <td>26711</td>\n      <td>0.252736</td>\n      <td>26711</td>\n      <td>0.558421</td>\n    </tr>\n  </tbody>\n</table>\n</div>"
     },
     "metadata": {},
     "execution_count": 11
    }
   ],
   "source": [
    "ambos.head()"
   ]
  },
  {
   "cell_type": "code",
   "execution_count": 12,
   "metadata": {},
   "outputs": [],
   "source": [
    "del ambos['id']"
   ]
  },
  {
   "cell_type": "code",
   "execution_count": 13,
   "metadata": {},
   "outputs": [
    {
     "output_type": "execute_result",
     "data": {
      "text/plain": [
       "   respondent_id  h1n1_vaccine  xgb_test_pred\n",
       "0          26707      0.047429       0.181784\n",
       "1          26708      0.054938       0.070073\n",
       "2          26709      0.467708       0.827732\n",
       "3          26710      0.812618       0.889232\n",
       "4          26711      0.252736       0.558421"
      ],
      "text/html": "<div>\n<style scoped>\n    .dataframe tbody tr th:only-of-type {\n        vertical-align: middle;\n    }\n\n    .dataframe tbody tr th {\n        vertical-align: top;\n    }\n\n    .dataframe thead th {\n        text-align: right;\n    }\n</style>\n<table border=\"1\" class=\"dataframe\">\n  <thead>\n    <tr style=\"text-align: right;\">\n      <th></th>\n      <th>respondent_id</th>\n      <th>h1n1_vaccine</th>\n      <th>xgb_test_pred</th>\n    </tr>\n  </thead>\n  <tbody>\n    <tr>\n      <td>0</td>\n      <td>26707</td>\n      <td>0.047429</td>\n      <td>0.181784</td>\n    </tr>\n    <tr>\n      <td>1</td>\n      <td>26708</td>\n      <td>0.054938</td>\n      <td>0.070073</td>\n    </tr>\n    <tr>\n      <td>2</td>\n      <td>26709</td>\n      <td>0.467708</td>\n      <td>0.827732</td>\n    </tr>\n    <tr>\n      <td>3</td>\n      <td>26710</td>\n      <td>0.812618</td>\n      <td>0.889232</td>\n    </tr>\n    <tr>\n      <td>4</td>\n      <td>26711</td>\n      <td>0.252736</td>\n      <td>0.558421</td>\n    </tr>\n  </tbody>\n</table>\n</div>"
     },
     "metadata": {},
     "execution_count": 13
    }
   ],
   "source": [
    "ambos.head()"
   ]
  },
  {
   "cell_type": "code",
   "execution_count": 14,
   "metadata": {},
   "outputs": [],
   "source": [
    "ambos.rename(columns={'xgb_test_pred': 'seasonal_vaccine'}, inplace=True)"
   ]
  },
  {
   "cell_type": "code",
   "execution_count": 15,
   "metadata": {},
   "outputs": [
    {
     "output_type": "execute_result",
     "data": {
      "text/plain": [
       "   respondent_id  h1n1_vaccine  seasonal_vaccine\n",
       "0          26707      0.047429          0.181784\n",
       "1          26708      0.054938          0.070073\n",
       "2          26709      0.467708          0.827732\n",
       "3          26710      0.812618          0.889232\n",
       "4          26711      0.252736          0.558421"
      ],
      "text/html": "<div>\n<style scoped>\n    .dataframe tbody tr th:only-of-type {\n        vertical-align: middle;\n    }\n\n    .dataframe tbody tr th {\n        vertical-align: top;\n    }\n\n    .dataframe thead th {\n        text-align: right;\n    }\n</style>\n<table border=\"1\" class=\"dataframe\">\n  <thead>\n    <tr style=\"text-align: right;\">\n      <th></th>\n      <th>respondent_id</th>\n      <th>h1n1_vaccine</th>\n      <th>seasonal_vaccine</th>\n    </tr>\n  </thead>\n  <tbody>\n    <tr>\n      <td>0</td>\n      <td>26707</td>\n      <td>0.047429</td>\n      <td>0.181784</td>\n    </tr>\n    <tr>\n      <td>1</td>\n      <td>26708</td>\n      <td>0.054938</td>\n      <td>0.070073</td>\n    </tr>\n    <tr>\n      <td>2</td>\n      <td>26709</td>\n      <td>0.467708</td>\n      <td>0.827732</td>\n    </tr>\n    <tr>\n      <td>3</td>\n      <td>26710</td>\n      <td>0.812618</td>\n      <td>0.889232</td>\n    </tr>\n    <tr>\n      <td>4</td>\n      <td>26711</td>\n      <td>0.252736</td>\n      <td>0.558421</td>\n    </tr>\n  </tbody>\n</table>\n</div>"
     },
     "metadata": {},
     "execution_count": 15
    }
   ],
   "source": [
    "ambos.head()"
   ]
  },
  {
   "cell_type": "code",
   "execution_count": 16,
   "metadata": {},
   "outputs": [
    {
     "output_type": "execute_result",
     "data": {
      "text/plain": [
       "(26708, 3)"
      ]
     },
     "metadata": {},
     "execution_count": 16
    }
   ],
   "source": [
    "ambos.shape"
   ]
  },
  {
   "cell_type": "code",
   "execution_count": 17,
   "metadata": {},
   "outputs": [],
   "source": [
    "ambos.to_csv('../model_preds/submission.csv', index=False)"
   ]
  },
  {
   "cell_type": "code",
   "execution_count": null,
   "metadata": {},
   "outputs": [],
   "source": []
  }
 ]
}