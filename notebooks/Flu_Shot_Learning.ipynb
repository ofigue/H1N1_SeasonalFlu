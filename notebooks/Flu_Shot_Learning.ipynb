{
  "nbformat": 4,
  "nbformat_minor": 0,
  "metadata": {
    "colab": {
      "name": "Submission 24 Flu_Shot_Learning.ipynb",
      "provenance": [],
      "collapsed_sections": [],
      "toc_visible": true
    },
    "kernelspec": {
      "name": "python3",
      "display_name": "Python 3"
    }
  },
  "cells": [
    {
      "cell_type": "markdown",
      "metadata": {
        "id": "YbyDE94wmK4W",
        "colab_type": "text"
      },
      "source": [
        "# Flu Shot Learning"
      ]
    },
    {
      "cell_type": "markdown",
      "metadata": {
        "id": "nKNyXZSNmKgF",
        "colab_type": "text"
      },
      "source": [
        "## Importing Libraries"
      ]
    },
    {
      "cell_type": "code",
      "metadata": {
        "id": "kcLDHJZoj49H",
        "colab_type": "code",
        "colab": {}
      },
      "source": [
        "import numpy as np\n",
        "import pandas as pd\n",
        "%matplotlib inline\n",
        "import matplotlib.pyplot as plt\n",
        "import tensorflow as tf \n",
        "tf.test.gpu_device_name() "
      ],
      "execution_count": 0,
      "outputs": []
    },
    {
      "cell_type": "code",
      "metadata": {
        "id": "qfggik4umFvX",
        "colab_type": "code",
        "colab": {}
      },
      "source": [
        "tf.__version__"
      ],
      "execution_count": 0,
      "outputs": []
    },
    {
      "cell_type": "markdown",
      "metadata": {
        "id": "mMRFAANbqiXI",
        "colab_type": "text"
      },
      "source": [
        "# Data Preprocessing"
      ]
    },
    {
      "cell_type": "markdown",
      "metadata": {
        "id": "gofd9P0yqmmz",
        "colab_type": "text"
      },
      "source": [
        "## Importing the dataset"
      ]
    },
    {
      "cell_type": "code",
      "metadata": {
        "id": "ThPO9zpdquPQ",
        "colab_type": "code",
        "colab": {}
      },
      "source": [
        "features_dataset = pd.read_csv('training_set_features.csv', index_col=\"respondent_id\")\n",
        "test_dataset = pd.read_csv('test_set_features.csv', index_col=\"respondent_id\")\n",
        "labels_dataset = pd.read_csv('training_set_labels.csv', index_col=\"respondent_id\")"
      ],
      "execution_count": 0,
      "outputs": []
    },
    {
      "cell_type": "code",
      "metadata": {
        "id": "NCtwzT7IQ7Fi",
        "colab_type": "code",
        "colab": {}
      },
      "source": [
        "X = features_dataset.iloc[:, :].values\n",
        "X_test1 = test_dataset.iloc[:, :].values\n",
        "y_h = labels_dataset.iloc[:,0 ].values\n",
        "y_s = labels_dataset.iloc[:,-1 ].values"
      ],
      "execution_count": 0,
      "outputs": []
    },
    {
      "cell_type": "markdown",
      "metadata": {
        "id": "UPsAb7aOnXK1",
        "colab_type": "text"
      },
      "source": [
        "## Missing Data"
      ]
    },
    {
      "cell_type": "code",
      "metadata": {
        "id": "p5EO3wSZnWjr",
        "colab_type": "code",
        "colab": {}
      },
      "source": [
        "from sklearn.impute import SimpleImputer\n",
        "imputer = SimpleImputer(missing_values=np.nan, strategy='most_frequent')\n",
        "imputer.fit(X[:,:])\n",
        "X[:,:] = imputer.transform(X[:,:])"
      ],
      "execution_count": 0,
      "outputs": []
    },
    {
      "cell_type": "code",
      "metadata": {
        "id": "h60I1uSQc5N1",
        "colab_type": "code",
        "colab": {}
      },
      "source": [
        "imputer.fit(X_test1[:,:])\n",
        "X_test1[:,:] = imputer.transform(X_test1[:,:])"
      ],
      "execution_count": 0,
      "outputs": []
    },
    {
      "cell_type": "markdown",
      "metadata": {
        "id": "HEdpxaqGl1ae",
        "colab_type": "text"
      },
      "source": [
        "## Encoding Categorical Data\n",
        "\n",
        "\n"
      ]
    },
    {
      "cell_type": "code",
      "metadata": {
        "id": "nGuF53AzmIhn",
        "colab_type": "code",
        "colab": {}
      },
      "source": [
        "from sklearn.compose import ColumnTransformer\n",
        "from sklearn.preprocessing import OneHotEncoder\n",
        "ct = ColumnTransformer(transformers=[('encoder', OneHotEncoder(), [20,21,22,23,24,25,26,27,28,29,30,33,34])], remainder='passthrough')\n",
        "X = np.array(ct.fit_transform(X))\n",
        "X_test1 = np.array(ct.fit_transform(X_test1))"
      ],
      "execution_count": 0,
      "outputs": []
    },
    {
      "cell_type": "code",
      "metadata": {
        "id": "obOg7dzqJsss",
        "colab_type": "code",
        "colab": {}
      },
      "source": [
        "RANDOM_SEED = 6"
      ],
      "execution_count": 0,
      "outputs": []
    },
    {
      "cell_type": "code",
      "metadata": {
        "id": "vxFVJuuCOLmQ",
        "colab_type": "code",
        "colab": {}
      },
      "source": [
        "print(X)"
      ],
      "execution_count": 0,
      "outputs": []
    },
    {
      "cell_type": "markdown",
      "metadata": {
        "id": "KM5yVyzQkRIu",
        "colab_type": "text"
      },
      "source": [
        "# Hyper parameter Tuning (SVM RBF)"
      ]
    },
    {
      "cell_type": "markdown",
      "metadata": {
        "id": "hzpsJ3orQJxU",
        "colab_type": "text"
      },
      "source": [
        "## Training the dataset"
      ]
    },
    {
      "cell_type": "code",
      "metadata": {
        "id": "reDz_8PSSMJ7",
        "colab_type": "code",
        "colab": {}
      },
      "source": [
        "from sklearn import svm\n",
        "from sklearn.model_selection import cross_val_score"
      ],
      "execution_count": 0,
      "outputs": []
    },
    {
      "cell_type": "code",
      "metadata": {
        "id": "AgX2dD0Yoq_v",
        "colab_type": "code",
        "colab": {}
      },
      "source": [
        "from sklearn import svm\n",
        "from sklearn.ensemble import RandomForestClassifier\n",
        "from sklearn.linear_model import LogisticRegression\n",
        "\n",
        "model_params = {\n",
        "    'svm': {\n",
        "        'model': svm.SVC(gamma='auto'),\n",
        "        'params' : {\n",
        "            'C': [1,10,20],\n",
        "            'kernel': ['rbf']\n",
        "        }  \n",
        "    },\n",
        "    'random_forest': {\n",
        "        'model': RandomForestClassifier(),\n",
        "        'params' : {\n",
        "            'n_estimators': [1,5,10]\n",
        "        }\n",
        "    },\n",
        "    'logistic_regression' : {\n",
        "        'model': LogisticRegression(solver='liblinear',multi_class='auto'),\n",
        "        'params': {\n",
        "            'C': [1,5,10]\n",
        "        }\n",
        "    }\n",
        "}"
      ],
      "execution_count": 0,
      "outputs": []
    },
    {
      "cell_type": "code",
      "metadata": {
        "id": "wozAfSaFos-k",
        "colab_type": "code",
        "colab": {}
      },
      "source": [
        "scores = []\n",
        "from sklearn.model_selection import GridSearchCV\n",
        "for model_name, mp in model_params.items():\n",
        "    clf_h =  GridSearchCV(mp['model'], mp['params'], cv=5, return_train_score=False)\n",
        "    clf_h.fit(X,y_h)\n",
        "    scores.append({\n",
        "        'model': model_name,\n",
        "        'best_score': clf.best_score_,\n",
        "        'best_params': clf.best_params_\n",
        "    })\n",
        "    \n",
        "df = pd.DataFrame(scores,columns=['model','best_score','best_params'])\n",
        "df"
      ],
      "execution_count": 0,
      "outputs": []
    },
    {
      "cell_type": "code",
      "metadata": {
        "id": "6y_xRHRJp1Ar",
        "colab_type": "code",
        "colab": {}
      },
      "source": [
        "scores = []\n",
        "from sklearn.model_selection import RandomizedSearchCV\n",
        "for model_name, mp in model_params.items():\n",
        "    rs_h = RandomizedSearchCV(mp['model'], mp['params'], cv=5, return_train_score=False)\n",
        "    rs_h.fit(X,y_h)\n",
        "    scores.append({\n",
        "        'model': model_name,\n",
        "        'best_score': rs.best_score_,\n",
        "        'best_params': rs.best_params_\n",
        "    })\n",
        "    \n",
        "df = pd.DataFrame(scores,columns=['model','best_score','best_params'])\n",
        "df"
      ],
      "execution_count": 0,
      "outputs": []
    },
    {
      "cell_type": "markdown",
      "metadata": {
        "id": "o6HJXF4Lcg9B",
        "colab_type": "text"
      },
      "source": [
        "## Predicting the test result"
      ]
    },
    {
      "cell_type": "code",
      "metadata": {
        "id": "KLWzj1d6Gf6b",
        "colab_type": "code",
        "colab": {}
      },
      "source": [
        "y_prob = clf_h.predict(X)"
      ],
      "execution_count": 0,
      "outputs": []
    },
    {
      "cell_type": "code",
      "metadata": {
        "colab_type": "code",
        "id": "c4hwo05knu0M",
        "colab": {}
      },
      "source": [
        "y_prob_h = clf_h.predict(X_test1)"
      ],
      "execution_count": 0,
      "outputs": []
    },
    {
      "cell_type": "markdown",
      "metadata": {
        "id": "MbH7iPv9d4Ui",
        "colab_type": "text"
      },
      "source": [
        "## Accuracy (Linear Regression for both H1N1 and seasonal flu)"
      ]
    },
    {
      "cell_type": "code",
      "metadata": {
        "id": "uGwX7pMDd7Gi",
        "colab_type": "code",
        "colab": {}
      },
      "source": [
        "from sklearn.metrics import roc_curve, roc_auc_score\n",
        "roc_auc_score(y_h, y_prob)"
      ],
      "execution_count": 0,
      "outputs": []
    },
    {
      "cell_type": "markdown",
      "metadata": {
        "id": "-zfEzkRVXIwF",
        "colab_type": "text"
      },
      "source": [
        "## Building the ANN"
      ]
    },
    {
      "cell_type": "markdown",
      "metadata": {
        "id": "KvdeScabXtlB",
        "colab_type": "text"
      },
      "source": [
        "### Initializing the ANN"
      ]
    },
    {
      "cell_type": "code",
      "metadata": {
        "id": "3dtrScHxXQox",
        "colab_type": "code",
        "colab": {}
      },
      "source": [
        "ann_s = tf.keras.models.Sequential()"
      ],
      "execution_count": 0,
      "outputs": []
    },
    {
      "cell_type": "markdown",
      "metadata": {
        "id": "rP6urV6SX7kS",
        "colab_type": "text"
      },
      "source": [
        "### Adding the input layer and the first hidden layer"
      ]
    },
    {
      "cell_type": "code",
      "metadata": {
        "id": "bppGycBXYCQr",
        "colab_type": "code",
        "colab": {}
      },
      "source": [
        "ann_s.add(tf.keras.layers.Dense(64, activation='selu'))"
      ],
      "execution_count": 0,
      "outputs": []
    },
    {
      "cell_type": "markdown",
      "metadata": {
        "id": "BELWAc_8YJze",
        "colab_type": "text"
      },
      "source": [
        "### Adding the second and third hidden layer"
      ]
    },
    {
      "cell_type": "code",
      "metadata": {
        "id": "JneR0u0sYRTd",
        "colab_type": "code",
        "colab": {}
      },
      "source": [
        "ann_s.add(tf.keras.layers.Dense(units=32, activation='selu'))"
      ],
      "execution_count": 0,
      "outputs": []
    },
    {
      "cell_type": "code",
      "metadata": {
        "id": "cNL4ZAGzIqIL",
        "colab_type": "code",
        "colab": {}
      },
      "source": [
        "ann_s.add(tf.keras.layers.Dense(units=16, activation='selu'))"
      ],
      "execution_count": 0,
      "outputs": []
    },
    {
      "cell_type": "markdown",
      "metadata": {
        "id": "OyNEe6RXYcU4",
        "colab_type": "text"
      },
      "source": [
        "### Adding the output layer"
      ]
    },
    {
      "cell_type": "code",
      "metadata": {
        "id": "Cn3x41RBYfvY",
        "colab_type": "code",
        "colab": {}
      },
      "source": [
        "ann_s.add(tf.keras.layers.Dense(units=1, activation='sigmoid'))"
      ],
      "execution_count": 0,
      "outputs": []
    },
    {
      "cell_type": "markdown",
      "metadata": {
        "id": "JT4u2S1_Y4WG",
        "colab_type": "text"
      },
      "source": [
        "## Training the ANN"
      ]
    },
    {
      "cell_type": "markdown",
      "metadata": {
        "id": "8GWlJChhY_ZI",
        "colab_type": "text"
      },
      "source": [
        "### Compiling the ANN"
      ]
    },
    {
      "cell_type": "code",
      "metadata": {
        "id": "fG3RrwDXZEaS",
        "colab_type": "code",
        "colab": {}
      },
      "source": [
        "ann_s.compile(optimizer = 'SGD', loss = 'binary_crossentropy', metrics = ['accuracy'])"
      ],
      "execution_count": 0,
      "outputs": []
    },
    {
      "cell_type": "code",
      "metadata": {
        "id": "_7TfDHv7_BRA",
        "colab_type": "code",
        "colab": {}
      },
      "source": [
        "X = np.asarray(X).astype(np.float32)\n",
        "X_test1 = np.asarray(X_test1).astype(np.float32)\n",
        "y_h = np.asarray(y_h).astype(np.float32)\n",
        "y_s = np.asarray(y_s).astype(np.float32)"
      ],
      "execution_count": 0,
      "outputs": []
    },
    {
      "cell_type": "markdown",
      "metadata": {
        "id": "0QR_G5u7ZLSM",
        "colab_type": "text"
      },
      "source": [
        "### Training the ANN on the Training set"
      ]
    },
    {
      "cell_type": "code",
      "metadata": {
        "id": "4qd1-PXD4qkB",
        "colab_type": "code",
        "colab": {}
      },
      "source": [
        "ann_s.fit(X, y_s, batch_size = 1024, epochs = 1000)"
      ],
      "execution_count": 0,
      "outputs": []
    },
    {
      "cell_type": "markdown",
      "metadata": {
        "id": "tJj5k2MxZga3",
        "colab_type": "text"
      },
      "source": [
        "## Part 4 - Making the predictions and evaluating the model"
      ]
    },
    {
      "cell_type": "markdown",
      "metadata": {
        "id": "u7yx47jPZt11",
        "colab_type": "text"
      },
      "source": [
        "### Predicting the Test set results"
      ]
    },
    {
      "cell_type": "code",
      "metadata": {
        "id": "oGfz3Xk9AVCf",
        "colab_type": "code",
        "colab": {}
      },
      "source": [
        "y_prob = ann_s.predict(X)"
      ],
      "execution_count": 0,
      "outputs": []
    },
    {
      "cell_type": "code",
      "metadata": {
        "id": "WMIBykJ9AaOG",
        "colab_type": "code",
        "colab": {}
      },
      "source": [
        "y_prob_s = ann_s.predict(X_test1)"
      ],
      "execution_count": 0,
      "outputs": []
    },
    {
      "cell_type": "markdown",
      "metadata": {
        "id": "6pH4TYqtv3ZN",
        "colab_type": "text"
      },
      "source": [
        "### Accuracy"
      ]
    },
    {
      "cell_type": "code",
      "metadata": {
        "id": "gom6AgRfv5do",
        "colab_type": "code",
        "colab": {}
      },
      "source": [
        "from sklearn.metrics import roc_curve, roc_auc_score\n",
        "roc_auc_score(y_s, y_prob)"
      ],
      "execution_count": 0,
      "outputs": []
    },
    {
      "cell_type": "markdown",
      "metadata": {
        "id": "JbpyhDzCHhEF",
        "colab_type": "text"
      },
      "source": [
        "# Submission"
      ]
    },
    {
      "cell_type": "code",
      "metadata": {
        "id": "7bsOP2WOCiC6",
        "colab_type": "code",
        "colab": {}
      },
      "source": [
        "y_prob_h"
      ],
      "execution_count": 0,
      "outputs": []
    },
    {
      "cell_type": "code",
      "metadata": {
        "id": "Mxe-X38aCqqB",
        "colab_type": "code",
        "colab": {}
      },
      "source": [
        "y_prob_s"
      ],
      "execution_count": 0,
      "outputs": []
    },
    {
      "cell_type": "code",
      "metadata": {
        "id": "K0GXl75EjPEs",
        "colab_type": "code",
        "colab": {}
      },
      "source": [
        "submission_dataset = pd.read_csv('submission_format.csv', index_col=\"respondent_id\")\n",
        "submission_dataset.head()"
      ],
      "execution_count": 0,
      "outputs": []
    },
    {
      "cell_type": "code",
      "metadata": {
        "id": "1YKrBdS3jUz3",
        "colab_type": "code",
        "colab": {}
      },
      "source": [
        "np.testing.assert_array_equal(test_dataset.index.values, submission_dataset.index.values)\n",
        "submission_dataset[\"h1n1_vaccine\"] = y_prob_h\n",
        "submission_dataset[\"seasonal_vaccine\"] = y_prob_s\n",
        "submission_dataset.head()"
      ],
      "execution_count": 0,
      "outputs": []
    },
    {
      "cell_type": "code",
      "metadata": {
        "id": "S9VvsqsujiNJ",
        "colab_type": "code",
        "colab": {}
      },
      "source": [
        "submission_dataset.to_csv('team_20_submission_4.csv', index=True)"
      ],
      "execution_count": 0,
      "outputs": []
    },
    {
      "cell_type": "code",
      "metadata": {
        "id": "Da9cRuUajmsH",
        "colab_type": "code",
        "colab": {}
      },
      "source": [
        "!head team_20_submission_24.csv"
      ],
      "execution_count": 0,
      "outputs": []
    },
    {
      "cell_type": "code",
      "metadata": {
        "id": "3eQ3E5ZYkD-i",
        "colab_type": "code",
        "colab": {}
      },
      "source": [
        "from google.colab import files\n",
        "files.download'team_20_submission_24.csv')"
      ],
      "execution_count": 0,
      "outputs": []
    }
  ]
}